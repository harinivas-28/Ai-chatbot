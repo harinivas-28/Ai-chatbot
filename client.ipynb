{
 "cells": [
  {
   "cell_type": "code",
   "execution_count": 1,
   "metadata": {},
   "outputs": [],
   "source": [
    "import os\n",
    "import google.generativeai as genai\n",
    "from dotenv import load_dotenv\n",
    "from PyPDF2 import PdfReader\n",
    "import pandas as pd"
   ]
  },
  {
   "cell_type": "code",
   "execution_count": 2,
   "metadata": {},
   "outputs": [],
   "source": [
    "# Load environment variables\n",
    "load_dotenv()\n",
    "\n",
    "# Initialize Google Gemini API\n",
    "genai.configure(api_key=os.getenv(\"GOOGLE_API_KEY\"))"
   ]
  },
  {
   "cell_type": "code",
   "execution_count": 3,
   "metadata": {},
   "outputs": [],
   "source": [
    "def get_pdf_text(pdf_paths):\n",
    "    text = \"\"\n",
    "    for pdf_path in pdf_paths:\n",
    "        pdf_reader = PdfReader(pdf_path)\n",
    "        for page in pdf_reader.pages:\n",
    "            text += page.extract_text()\n",
    "    return text\n",
    "\n",
    "def get_txt_text(txt_paths):\n",
    "    text = \"\"\n",
    "    for txt_path in txt_paths:\n",
    "        with open(txt_path, \"r\", encoding='utf-8') as file:\n",
    "            text += file.read()\n",
    "    return text\n",
    "\n",
    "def get_csv_text(csv_paths):\n",
    "    text = \"\"\n",
    "    for csv_path in csv_paths:\n",
    "        df = pd.read_csv(csv_path)\n",
    "        text += df.to_string(index=False)\n",
    "    return text\n",
    "\n",
    "def get_combined_text(uploaded_files):\n",
    "    combined_text = \"\"\n",
    "    for file_path in uploaded_files:\n",
    "        if file_path.endswith(\".pdf\"):\n",
    "            combined_text += get_pdf_text([file_path])\n",
    "        elif file_path.endswith(\".txt\"):\n",
    "            combined_text += get_txt_text([file_path])\n",
    "        elif file_path.endswith(\".csv\"):\n",
    "            combined_text += get_csv_text([file_path])\n",
    "    return combined_text"
   ]
  },
  {
   "cell_type": "code",
   "execution_count": 4,
   "metadata": {},
   "outputs": [],
   "source": [
    "def get_gemini_response(query, context=None):\n",
    "    try:\n",
    "        model = genai.GenerativeModel('gemini-pro')\n",
    "        if context:\n",
    "            prompt=f\"Answer the question based on this context: {context}. Question: {query}\"\n",
    "            response = model.generate_content([prompt, query])\n",
    "        else:\n",
    "            prompt=f\"Answer the question using information from the internet. Question: {query}\"\n",
    "            response = model.generate_content([prompt, query])\n",
    "        return response.text\n",
    "    except Exception as e:\n",
    "        print(f\"Error generating response: {e}\")\n",
    "        return None"
   ]
  },
  {
   "cell_type": "code",
   "execution_count": 5,
   "metadata": {},
   "outputs": [],
   "source": [
    "import json\n",
    "\n",
    "def history(file_path, question, answer):\n",
    "    \"\"\"\n",
    "    Appends a question-answer pair to a JSON file containing a list of dictionaries.\n",
    "    \n",
    "    Parameters:\n",
    "    - file_path: Path to the JSON file.\n",
    "    - question: The question to be added.\n",
    "    - answer: The answer to be added.\n",
    "    \"\"\"\n",
    "    # Load existing data from the JSON file\n",
    "    try:\n",
    "        with open(file_path, 'r') as file:\n",
    "            data = json.load(file)\n",
    "            if not isinstance(data, list):\n",
    "                raise ValueError(\"JSON file does not contain a list of dictionaries.\")\n",
    "    except FileNotFoundError:\n",
    "        # If the file does not exist, initialize an empty list\n",
    "        data = []\n",
    "    except json.JSONDecodeError:\n",
    "        # Handle the case where the JSON file is empty or corrupted\n",
    "        data = []\n",
    "    except ValueError as e:\n",
    "        print(e)\n",
    "        return\n",
    "\n",
    "    # Append the new question-answer pair to the list\n",
    "    data.append({'question': question, 'answer': answer})\n",
    "\n",
    "    # Write the updated list back to the JSON file\n",
    "    try:\n",
    "        with open(file_path, 'w') as file:\n",
    "            json.dump(data, file, indent=4)\n",
    "    except Exception as e:\n",
    "        print(e)"
   ]
  },
  {
   "cell_type": "code",
   "execution_count": 6,
   "metadata": {},
   "outputs": [],
   "source": [
    "def main():\n",
    "    print(\"Welcome to AI Chatbot CLI\")\n",
    "    \n",
    "    # Get file paths from user\n",
    "    uploaded_files = input(\"Enter the paths of your files (PDF, TXT, CSV) separated by commas: \").split(',')\n",
    "    uploaded_files = [file_path.strip() for file_path in uploaded_files if os.path.exists(file_path)]\n",
    "    \n",
    "    # Get user question\n",
    "    user_question = input(\"Ask a question: \")\n",
    "    \n",
    "    # Generate response\n",
    "    if user_question:\n",
    "        print(f\"\\nYou: {user_question}\")\n",
    "        if uploaded_files:\n",
    "            context_text = get_combined_text(uploaded_files)\n",
    "            response = get_gemini_response(user_question, context=context_text)\n",
    "        else:\n",
    "            response = get_gemini_response(user_question)\n",
    "        \n",
    "        history(\"history.json\", user_question, response)\n",
    "        print(f\"Chat Bot: {response}\")"
   ]
  },
  {
   "cell_type": "code",
   "execution_count": 7,
   "metadata": {},
   "outputs": [
    {
     "name": "stdout",
     "output_type": "stream",
     "text": [
      "Welcome to AI Chatbot CLI\n",
      "\n",
      "You: write a java program to filp all bits of an integer\n",
      "Chat Bot: ```java\n",
      "public class FlipBits {\n",
      "\n",
      "    public static void main(String[] args) {\n",
      "        int num = 12;\n",
      "        System.out.println(\"Original number: \" + num);\n",
      "\n",
      "        // Flip all bits of the number using XOR with -1\n",
      "        int flippedNum = num ^ -1;\n",
      "\n",
      "        System.out.println(\"Flipped number: \" + flippedNum);\n",
      "    }\n",
      "}\n",
      "```\n"
     ]
    }
   ],
   "source": [
    "if __name__ == '__main__':\n",
    "    main()"
   ]
  },
  {
   "cell_type": "code",
   "execution_count": null,
   "metadata": {},
   "outputs": [],
   "source": []
  }
 ],
 "metadata": {
  "kernelspec": {
   "display_name": "Python 3",
   "language": "python",
   "name": "python3"
  },
  "language_info": {
   "codemirror_mode": {
    "name": "ipython",
    "version": 3
   },
   "file_extension": ".py",
   "mimetype": "text/x-python",
   "name": "python",
   "nbconvert_exporter": "python",
   "pygments_lexer": "ipython3",
   "version": "3.12.2"
  }
 },
 "nbformat": 4,
 "nbformat_minor": 2
}
